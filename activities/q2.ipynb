{
 "cells": [
  {
   "cell_type": "code",
   "execution_count": 1,
   "metadata": {},
   "outputs": [],
   "source": [
    "import numpy as np\n",
    "import linear_system"
   ]
  },
  {
   "cell_type": "markdown",
   "metadata": {},
   "source": [
    "2. Compare as soluções retornadas pelos três métodos acima (Eliminação de\n",
    "Gauss, Jacobi e Gauss-Seidel) rodando-os para os sistemas lineares cujas\n",
    "matrizes ampliadas são as seguintes (utilize e = 10−5 para os métodos de\n",
    "Jacobi e Gauss-Seidel):"
   ]
  },
  {
   "cell_type": "markdown",
   "metadata": {},
   "source": [
    " $\\begin{pmatrix}\n",
    "   10 & 1 & 1 & 12 \\\\\n",
    "   1 & 10 & 1 & 12 \\\\\n",
    "   1 & 1 & 10 & 12 \n",
    "\\end{pmatrix}\n",
    "$"
   ]
  },
  {
   "cell_type": "code",
   "execution_count": 6,
   "metadata": {},
   "outputs": [],
   "source": [
    "A = np.array([\n",
    "    [10, 1, 1, 12],\n",
    "    [1, 10, 1, 12],\n",
    "    [1, 1, 10, 12]\n",
    "], dtype =float)"
   ]
  },
  {
   "cell_type": "code",
   "execution_count": 7,
   "metadata": {},
   "outputs": [
    {
     "data": {
      "text/plain": [
       "array([[10.        ,  1.        ,  1.        , 12.        ],\n",
       "       [ 0.        ,  9.9       ,  0.9       , 10.8       ],\n",
       "       [ 0.        ,  0.        ,  9.81818182,  9.81818182]])"
      ]
     },
     "execution_count": 7,
     "metadata": {},
     "output_type": "execute_result"
    }
   ],
   "source": [
    "linear_system.gaus_elimination(A)"
   ]
  },
  {
   "cell_type": "code",
   "execution_count": 8,
   "metadata": {},
   "outputs": [
    {
     "data": {
      "text/plain": [
       "array([[10.,  1.,  1.],\n",
       "       [ 1., 10.,  1.],\n",
       "       [ 1.,  1., 10.]])"
      ]
     },
     "execution_count": 8,
     "metadata": {},
     "output_type": "execute_result"
    }
   ],
   "source": [
    "A[:, :-1]"
   ]
  },
  {
   "cell_type": "code",
   "execution_count": 9,
   "metadata": {},
   "outputs": [
    {
     "data": {
      "text/plain": [
       "array([12., 12., 12.])"
      ]
     },
     "execution_count": 9,
     "metadata": {},
     "output_type": "execute_result"
    }
   ],
   "source": [
    "b = A[:, -1]\n",
    "b"
   ]
  },
  {
   "cell_type": "code",
   "execution_count": 10,
   "metadata": {},
   "outputs": [],
   "source": [
    "x = np.zeros_like(b)"
   ]
  },
  {
   "cell_type": "code",
   "execution_count": 11,
   "metadata": {},
   "outputs": [
    {
     "ename": "KeyboardInterrupt",
     "evalue": "",
     "output_type": "error",
     "traceback": [
      "\u001b[0;31m---------------------------------------------------------------------------\u001b[0m",
      "\u001b[0;31mKeyboardInterrupt\u001b[0m                         Traceback (most recent call last)",
      "\u001b[1;32m/home/spinosa/Office/UFC/computational-mathematics/activities/q2.ipynb Cell 9'\u001b[0m in \u001b[0;36m<cell line: 1>\u001b[0;34m()\u001b[0m\n\u001b[0;32m----> <a href='vscode-notebook-cell:/home/spinosa/Office/UFC/computational-mathematics/activities/q2.ipynb#ch0000008?line=0'>1</a>\u001b[0m linear_system\u001b[39m.\u001b[39;49mgauss_seidel(A[:, :\u001b[39m-\u001b[39;49m\u001b[39m1\u001b[39;49m], x, A[:, \u001b[39m-\u001b[39;49m\u001b[39m1\u001b[39;49m])\n",
      "File \u001b[0;32m~/Office/UFC/computational-mathematics/activities/linear_system/gauss_seidel.py:19\u001b[0m, in \u001b[0;36mgauss_seidel\u001b[0;34m(A, x, b, precision)\u001b[0m\n\u001b[1;32m     <a href='file:///home/spinosa/Office/UFC/computational-mathematics/activities/linear_system/gauss_seidel.py?line=16'>17</a>\u001b[0m \u001b[39mwhile\u001b[39;00m \u001b[39mTrue\u001b[39;00m:\n\u001b[1;32m     <a href='file:///home/spinosa/Office/UFC/computational-mathematics/activities/linear_system/gauss_seidel.py?line=17'>18</a>\u001b[0m     x \u001b[39m=\u001b[39m _seidel(A, x, b)\n\u001b[0;32m---> <a href='file:///home/spinosa/Office/UFC/computational-mathematics/activities/linear_system/gauss_seidel.py?line=18'>19</a>\u001b[0m     \u001b[39mif\u001b[39;00m np\u001b[39m.\u001b[39;49mallclose(A, x, atol\u001b[39m=\u001b[39;49mprecision, rtol\u001b[39m=\u001b[39;49m\u001b[39m0.\u001b[39;49m):\n\u001b[1;32m     <a href='file:///home/spinosa/Office/UFC/computational-mathematics/activities/linear_system/gauss_seidel.py?line=19'>20</a>\u001b[0m         \u001b[39mbreak\u001b[39;00m\n\u001b[1;32m     <a href='file:///home/spinosa/Office/UFC/computational-mathematics/activities/linear_system/gauss_seidel.py?line=20'>21</a>\u001b[0m \u001b[39mreturn\u001b[39;00m x\n",
      "File \u001b[0;32m<__array_function__ internals>:5\u001b[0m, in \u001b[0;36mallclose\u001b[0;34m(*args, **kwargs)\u001b[0m\n",
      "File \u001b[0;32m/usr/lib/python3/dist-packages/numpy/core/numeric.py:2249\u001b[0m, in \u001b[0;36mallclose\u001b[0;34m(a, b, rtol, atol, equal_nan)\u001b[0m\n\u001b[1;32m   <a href='file:///usr/lib/python3/dist-packages/numpy/core/numeric.py?line=2178'>2179</a>\u001b[0m \u001b[39m@array_function_dispatch\u001b[39m(_allclose_dispatcher)\n\u001b[1;32m   <a href='file:///usr/lib/python3/dist-packages/numpy/core/numeric.py?line=2179'>2180</a>\u001b[0m \u001b[39mdef\u001b[39;00m \u001b[39mallclose\u001b[39m(a, b, rtol\u001b[39m=\u001b[39m\u001b[39m1.e-5\u001b[39m, atol\u001b[39m=\u001b[39m\u001b[39m1.e-8\u001b[39m, equal_nan\u001b[39m=\u001b[39m\u001b[39mFalse\u001b[39;00m):\n\u001b[1;32m   <a href='file:///usr/lib/python3/dist-packages/numpy/core/numeric.py?line=2180'>2181</a>\u001b[0m     \u001b[39m\"\"\"\u001b[39;00m\n\u001b[1;32m   <a href='file:///usr/lib/python3/dist-packages/numpy/core/numeric.py?line=2181'>2182</a>\u001b[0m \u001b[39m    Returns True if two arrays are element-wise equal within a tolerance.\u001b[39;00m\n\u001b[1;32m   <a href='file:///usr/lib/python3/dist-packages/numpy/core/numeric.py?line=2182'>2183</a>\u001b[0m \n\u001b[0;32m   (...)\u001b[0m\n\u001b[1;32m   <a href='file:///usr/lib/python3/dist-packages/numpy/core/numeric.py?line=2246'>2247</a>\u001b[0m \n\u001b[1;32m   <a href='file:///usr/lib/python3/dist-packages/numpy/core/numeric.py?line=2247'>2248</a>\u001b[0m \u001b[39m    \"\"\"\u001b[39;00m\n\u001b[0;32m-> <a href='file:///usr/lib/python3/dist-packages/numpy/core/numeric.py?line=2248'>2249</a>\u001b[0m     res \u001b[39m=\u001b[39m \u001b[39mall\u001b[39;49m(isclose(a, b, rtol\u001b[39m=\u001b[39;49mrtol, atol\u001b[39m=\u001b[39;49matol, equal_nan\u001b[39m=\u001b[39;49mequal_nan))\n\u001b[1;32m   <a href='file:///usr/lib/python3/dist-packages/numpy/core/numeric.py?line=2249'>2250</a>\u001b[0m     \u001b[39mreturn\u001b[39;00m \u001b[39mbool\u001b[39m(res)\n",
      "File \u001b[0;32m<__array_function__ internals>:5\u001b[0m, in \u001b[0;36mall\u001b[0;34m(*args, **kwargs)\u001b[0m\n",
      "File \u001b[0;32m/usr/lib/python3/dist-packages/numpy/core/fromnumeric.py:2450\u001b[0m, in \u001b[0;36mall\u001b[0;34m(a, axis, out, keepdims, where)\u001b[0m\n\u001b[1;32m   <a href='file:///usr/lib/python3/dist-packages/numpy/core/fromnumeric.py?line=2366'>2367</a>\u001b[0m \u001b[39m@array_function_dispatch\u001b[39m(_all_dispatcher)\n\u001b[1;32m   <a href='file:///usr/lib/python3/dist-packages/numpy/core/fromnumeric.py?line=2367'>2368</a>\u001b[0m \u001b[39mdef\u001b[39;00m \u001b[39mall\u001b[39m(a, axis\u001b[39m=\u001b[39m\u001b[39mNone\u001b[39;00m, out\u001b[39m=\u001b[39m\u001b[39mNone\u001b[39;00m, keepdims\u001b[39m=\u001b[39mnp\u001b[39m.\u001b[39m_NoValue, \u001b[39m*\u001b[39m, where\u001b[39m=\u001b[39mnp\u001b[39m.\u001b[39m_NoValue):\n\u001b[1;32m   <a href='file:///usr/lib/python3/dist-packages/numpy/core/fromnumeric.py?line=2368'>2369</a>\u001b[0m     \u001b[39m\"\"\"\u001b[39;00m\n\u001b[1;32m   <a href='file:///usr/lib/python3/dist-packages/numpy/core/fromnumeric.py?line=2369'>2370</a>\u001b[0m \u001b[39m    Test whether all array elements along a given axis evaluate to True.\u001b[39;00m\n\u001b[1;32m   <a href='file:///usr/lib/python3/dist-packages/numpy/core/fromnumeric.py?line=2370'>2371</a>\u001b[0m \n\u001b[0;32m   (...)\u001b[0m\n\u001b[1;32m   <a href='file:///usr/lib/python3/dist-packages/numpy/core/fromnumeric.py?line=2447'>2448</a>\u001b[0m \n\u001b[1;32m   <a href='file:///usr/lib/python3/dist-packages/numpy/core/fromnumeric.py?line=2448'>2449</a>\u001b[0m \u001b[39m    \"\"\"\u001b[39;00m\n\u001b[0;32m-> <a href='file:///usr/lib/python3/dist-packages/numpy/core/fromnumeric.py?line=2449'>2450</a>\u001b[0m     \u001b[39mreturn\u001b[39;00m _wrapreduction(a, np\u001b[39m.\u001b[39;49mlogical_and, \u001b[39m'\u001b[39;49m\u001b[39mall\u001b[39;49m\u001b[39m'\u001b[39;49m, axis, \u001b[39mNone\u001b[39;49;00m, out,\n\u001b[1;32m   <a href='file:///usr/lib/python3/dist-packages/numpy/core/fromnumeric.py?line=2450'>2451</a>\u001b[0m                           keepdims\u001b[39m=\u001b[39;49mkeepdims, where\u001b[39m=\u001b[39;49mwhere)\n",
      "File \u001b[0;32m/usr/lib/python3/dist-packages/numpy/core/fromnumeric.py:69\u001b[0m, in \u001b[0;36m_wrapreduction\u001b[0;34m(obj, ufunc, method, axis, dtype, out, **kwargs)\u001b[0m\n\u001b[1;32m     <a href='file:///usr/lib/python3/dist-packages/numpy/core/fromnumeric.py?line=57'>58</a>\u001b[0m     \u001b[39mexcept\u001b[39;00m \u001b[39mTypeError\u001b[39;00m:\n\u001b[1;32m     <a href='file:///usr/lib/python3/dist-packages/numpy/core/fromnumeric.py?line=58'>59</a>\u001b[0m         \u001b[39m# A TypeError occurs if the object does have such a method in its\u001b[39;00m\n\u001b[1;32m     <a href='file:///usr/lib/python3/dist-packages/numpy/core/fromnumeric.py?line=59'>60</a>\u001b[0m         \u001b[39m# class, but its signature is not identical to that of NumPy's. This\u001b[39;00m\n\u001b[0;32m   (...)\u001b[0m\n\u001b[1;32m     <a href='file:///usr/lib/python3/dist-packages/numpy/core/fromnumeric.py?line=63'>64</a>\u001b[0m         \u001b[39m# Call _wrapit from within the except clause to ensure a potential\u001b[39;00m\n\u001b[1;32m     <a href='file:///usr/lib/python3/dist-packages/numpy/core/fromnumeric.py?line=64'>65</a>\u001b[0m         \u001b[39m# exception has a traceback chain.\u001b[39;00m\n\u001b[1;32m     <a href='file:///usr/lib/python3/dist-packages/numpy/core/fromnumeric.py?line=65'>66</a>\u001b[0m         \u001b[39mreturn\u001b[39;00m _wrapit(obj, method, \u001b[39m*\u001b[39margs, \u001b[39m*\u001b[39m\u001b[39m*\u001b[39mkwds)\n\u001b[0;32m---> <a href='file:///usr/lib/python3/dist-packages/numpy/core/fromnumeric.py?line=68'>69</a>\u001b[0m \u001b[39mdef\u001b[39;00m \u001b[39m_wrapreduction\u001b[39m(obj, ufunc, method, axis, dtype, out, \u001b[39m*\u001b[39m\u001b[39m*\u001b[39mkwargs):\n\u001b[1;32m     <a href='file:///usr/lib/python3/dist-packages/numpy/core/fromnumeric.py?line=69'>70</a>\u001b[0m     passkwargs \u001b[39m=\u001b[39m {k: v \u001b[39mfor\u001b[39;00m k, v \u001b[39min\u001b[39;00m kwargs\u001b[39m.\u001b[39mitems()\n\u001b[1;32m     <a href='file:///usr/lib/python3/dist-packages/numpy/core/fromnumeric.py?line=70'>71</a>\u001b[0m                   \u001b[39mif\u001b[39;00m v \u001b[39mis\u001b[39;00m \u001b[39mnot\u001b[39;00m np\u001b[39m.\u001b[39m_NoValue}\n\u001b[1;32m     <a href='file:///usr/lib/python3/dist-packages/numpy/core/fromnumeric.py?line=72'>73</a>\u001b[0m     \u001b[39mif\u001b[39;00m \u001b[39mtype\u001b[39m(obj) \u001b[39mis\u001b[39;00m \u001b[39mnot\u001b[39;00m mu\u001b[39m.\u001b[39mndarray:\n",
      "\u001b[0;31mKeyboardInterrupt\u001b[0m: "
     ]
    }
   ],
   "source": [
    "linear_system.gauss_seidel(A[:, :-1], x, A[:, -1])"
   ]
  },
  {
   "cell_type": "code",
   "execution_count": null,
   "metadata": {},
   "outputs": [],
   "source": []
  }
 ],
 "metadata": {
  "interpreter": {
   "hash": "e7370f93d1d0cde622a1f8e1c04877d8463912d04d973331ad4851f04de6915a"
  },
  "kernelspec": {
   "display_name": "Python 3.10.4 64-bit",
   "language": "python",
   "name": "python3"
  },
  "language_info": {
   "codemirror_mode": {
    "name": "ipython",
    "version": 3
   },
   "file_extension": ".py",
   "mimetype": "text/x-python",
   "name": "python",
   "nbconvert_exporter": "python",
   "pygments_lexer": "ipython3",
   "version": "3.10.4"
  },
  "orig_nbformat": 4
 },
 "nbformat": 4,
 "nbformat_minor": 2
}
