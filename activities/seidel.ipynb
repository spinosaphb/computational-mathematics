{
 "cells": [
  {
   "cell_type": "markdown",
   "metadata": {},
   "source": [
    "## Gaus Seidel"
   ]
  },
  {
   "cell_type": "code",
   "execution_count": 14,
   "metadata": {},
   "outputs": [],
   "source": [
    "def seidel(A, x ,b):\n",
    "    n = len(A)                   \n",
    "    \n",
    "    for j in range(0, n):        \n",
    "        d = b[j]                  \n",
    "          \n",
    "        for i in range(0, n):     \n",
    "            if(j != i):\n",
    "                d -= A[j][i] * x[i]\n",
    "        x[j] = d / A[j][j]\n",
    "    \n",
    "    return x   \n",
    "\n",
    "def gaus_seidel(A, x, b):\n",
    "    for i in range(0, 25):\n",
    "        x = seidel(A, x, b)\n",
    "    return x\n"
   ]
  },
  {
   "cell_type": "code",
   "execution_count": 12,
   "metadata": {},
   "outputs": [],
   "source": [
    "x = [0, 0, 0]                        \n",
    "A = [[4, 1, 2],[3, 5, 1],[1, 1, 3]]\n",
    "b = [4,7,3]\n"
   ]
  },
  {
   "cell_type": "code",
   "execution_count": 15,
   "metadata": {},
   "outputs": [
    {
     "data": {
      "text/plain": [
       "[0.5, 1.0, 0.5]"
      ]
     },
     "execution_count": 15,
     "metadata": {},
     "output_type": "execute_result"
    }
   ],
   "source": [
    "gaus_seidel(A, x, b)"
   ]
  },
  {
   "cell_type": "markdown",
   "metadata": {},
   "source": [
    "## Jacobi"
   ]
  },
  {
   "cell_type": "code",
   "execution_count": 17,
   "metadata": {},
   "outputs": [],
   "source": [
    "import numpy as np"
   ]
  },
  {
   "cell_type": "code",
   "execution_count": 19,
   "metadata": {},
   "outputs": [],
   "source": [
    "\n",
    "def jacobi(A, b, x, ITERATION_LIMIT = 1000):\n",
    "\n",
    "    i = 0\n",
    "    while i < ITERATION_LIMIT:\n",
    "        x_new = np.zeros_like (x)\n",
    "        \n",
    "        for i in range(A.shape[0]):\n",
    "            s1 = np.dot(A[i, :i], x[:i])\n",
    "            s2 = np.dot(A[i, i + 1:], x[i + 1:])\n",
    "            x_new[i] = (b[i] - s1 - s2) / A[i, i]\n",
    "        \n",
    "        if np.allclose (x, x_new, atol=1e-10, rtol=0.):\n",
    "            break\n",
    "        \n",
    "        x = x_new\n",
    "        i += 1\n",
    "    error = np.dot(A, x) - b\n",
    "\n",
    "    return x, error"
   ]
  },
  {
   "cell_type": "code",
   "execution_count": 20,
   "metadata": {},
   "outputs": [],
   "source": [
    "A = np.array([\n",
    "    [10., -1., 2., 0.],\n",
    "    [-1., 11., -1., 3.],\n",
    "    [2., -1., 10., -1.],\n",
    "    [0.0, 3., -1., 8.]]\n",
    ")\n",
    "\n",
    "b = np.array([6., 25., -11., 15.])\n",
    "x = np.zeros_like (b)\n"
   ]
  },
  {
   "cell_type": "code",
   "execution_count": 21,
   "metadata": {},
   "outputs": [
    {
     "data": {
      "text/plain": [
       "(array([ 1.,  2., -1.,  1.]),\n",
       " array([ 3.95795396e-10, -7.29656335e-10,  5.13317389e-10, -5.86034332e-10]))"
      ]
     },
     "execution_count": 21,
     "metadata": {},
     "output_type": "execute_result"
    }
   ],
   "source": [
    "jacobi(A, b, x)"
   ]
  }
 ],
 "metadata": {
  "interpreter": {
   "hash": "e7370f93d1d0cde622a1f8e1c04877d8463912d04d973331ad4851f04de6915a"
  },
  "kernelspec": {
   "display_name": "Python 3.10.4 64-bit",
   "language": "python",
   "name": "python3"
  },
  "language_info": {
   "codemirror_mode": {
    "name": "ipython",
    "version": 3
   },
   "file_extension": ".py",
   "mimetype": "text/x-python",
   "name": "python",
   "nbconvert_exporter": "python",
   "pygments_lexer": "ipython3",
   "version": "3.10.4"
  },
  "orig_nbformat": 4
 },
 "nbformat": 4,
 "nbformat_minor": 2
}
