{
 "cells": [
  {
   "cell_type": "code",
   "execution_count": 35,
   "metadata": {},
   "outputs": [],
   "source": [
    "import numpy as np"
   ]
  },
  {
   "cell_type": "code",
   "execution_count": 243,
   "metadata": {},
   "outputs": [],
   "source": [
    "def find_index(arr: np.ndarray, i) -> np.ndarray:\n",
    "    index = i+1\n",
    "    for elem in arr[i+1:, i]:\n",
    "        if elem != 0:\n",
    "            return index\n",
    "        index += 1   \n",
    "\n",
    "def swap_row(arr_: np.ndarray, i) -> np.ndarray:\n",
    "    arr = arr_.copy()\n",
    "    target_index = find_index(arr, i)\n",
    "    arr[[i, target_index]] = arr[[target_index, i]]\n",
    "    return arr\n",
    "\n",
    "def gaus_elimination(arr_):\n",
    "    arr = arr_.copy()\n",
    "    i = 0\n",
    "    # Percorrendo a diagonal principal\n",
    "    while i < arr.shape[0]:\n",
    "        \n",
    "        ## cheagando se o elemento da diagonal principal é 0\n",
    "        if arr[i][i] == 0:\n",
    "            arr = swap_row(arr, i)\n",
    "            continue\n",
    "        \n",
    "        k = i+1\n",
    "        # Percorrendo os elementos abaixo do elemento da diagonal principal\n",
    "        while k < arr.shape[0]:\n",
    "            factor = arr[k][i] / arr[i][i]\n",
    "            arr[k] -= factor * arr[i] \n",
    "            k += 1 \n",
    "        i += 1\n",
    "    return arr"
   ]
  },
  {
   "cell_type": "code",
   "execution_count": 244,
   "metadata": {},
   "outputs": [],
   "source": [
    "linear_system = [\n",
    "    [3, 2, -4, 3],\n",
    "    [2, 3, 3, 15],\n",
    "    [5, -3, 1 , 14]\n",
    "]"
   ]
  },
  {
   "cell_type": "code",
   "execution_count": 245,
   "metadata": {},
   "outputs": [],
   "source": [
    "arr = np.array(linear_system, dtype=float)"
   ]
  },
  {
   "cell_type": "code",
   "execution_count": 246,
   "metadata": {},
   "outputs": [
    {
     "data": {
      "text/plain": [
       "array([[ 3.,  2., -4.,  3.],\n",
       "       [ 2.,  3.,  3., 15.],\n",
       "       [ 5., -3.,  1., 14.]])"
      ]
     },
     "execution_count": 246,
     "metadata": {},
     "output_type": "execute_result"
    }
   ],
   "source": [
    "arr"
   ]
  },
  {
   "cell_type": "code",
   "execution_count": 247,
   "metadata": {},
   "outputs": [
    {
     "name": "stdout",
     "output_type": "stream",
     "text": [
      "[[ 3.  2. -4.  3.]\n",
      " [ 2.  3.  3. 15.]\n",
      " [ 5. -3.  1. 14.]]\n",
      "\n",
      "                3.0\n",
      "                2.0\n",
      "            \n",
      "\n",
      "0.6666666666666666\n",
      "\n",
      "[ 2.          1.33333333 -2.66666667  2.        ]\n",
      "[[ 3.          2.         -4.          3.        ]\n",
      " [ 0.          1.66666667  5.66666667 13.        ]\n",
      " [ 5.         -3.          1.         14.        ]]\n",
      "\n",
      "                3.0\n",
      "                5.0\n",
      "            \n",
      "\n",
      "1.6666666666666667\n",
      "\n",
      "[ 5.          3.33333333 -6.66666667  5.        ]\n",
      "\n",
      "[[ 3.          2.         -4.          3.        ]\n",
      " [ 0.          1.66666667  5.66666667 13.        ]\n",
      " [ 0.         -6.33333333  7.66666667  9.        ]]\n",
      "\n",
      "                1.6666666666666667\n",
      "                -6.333333333333334\n",
      "            \n",
      "\n",
      "-3.8000000000000003\n",
      "\n",
      "[ -0.          -6.33333333 -21.53333333 -49.4       ]\n",
      "\n",
      "\n"
     ]
    },
    {
     "data": {
      "text/plain": [
       "array([[ 3.        ,  2.        , -4.        ,  3.        ],\n",
       "       [ 0.        ,  1.66666667,  5.66666667, 13.        ],\n",
       "       [ 0.        ,  0.        , 29.2       , 58.4       ]])"
      ]
     },
     "execution_count": 247,
     "metadata": {},
     "output_type": "execute_result"
    }
   ],
   "source": [
    "gaus_elimination(arr)"
   ]
  },
  {
   "cell_type": "code",
   "execution_count": 188,
   "metadata": {},
   "outputs": [
    {
     "data": {
      "text/plain": [
       "array([ -3. ,  -4.5,  -4.5, -22.5])"
      ]
     },
     "execution_count": 188,
     "metadata": {},
     "output_type": "execute_result"
    }
   ],
   "source": [
    "-1.5 * arr[1]"
   ]
  },
  {
   "cell_type": "code",
   "execution_count": 173,
   "metadata": {},
   "outputs": [
    {
     "data": {
      "text/plain": [
       "array([[ 5, -3,  1, 14],\n",
       "       [ 0,  3,  3, 15],\n",
       "       [ 3,  2, -4,  3]])"
      ]
     },
     "execution_count": 173,
     "metadata": {},
     "output_type": "execute_result"
    }
   ],
   "source": [
    "swap(arr, 0)"
   ]
  },
  {
   "cell_type": "code",
   "execution_count": 167,
   "metadata": {},
   "outputs": [
    {
     "data": {
      "text/plain": [
       "array([[ 5, -3,  1, 14],\n",
       "       [ 0,  3,  3, 15],\n",
       "       [ 3,  2, -4,  3]])"
      ]
     },
     "execution_count": 167,
     "metadata": {},
     "output_type": "execute_result"
    }
   ],
   "source": [
    "arr"
   ]
  },
  {
   "cell_type": "code",
   "execution_count": 152,
   "metadata": {},
   "outputs": [
    {
     "data": {
      "text/plain": [
       "2"
      ]
     },
     "execution_count": 152,
     "metadata": {},
     "output_type": "execute_result"
    }
   ],
   "source": [
    "find_index(arr, 0, 0)"
   ]
  },
  {
   "cell_type": "code",
   "execution_count": 160,
   "metadata": {},
   "outputs": [],
   "source": [
    "arr[[0, 2]] = arr[[2, 0]]"
   ]
  },
  {
   "cell_type": "code",
   "execution_count": 161,
   "metadata": {},
   "outputs": [
    {
     "data": {
      "text/plain": [
       "array([[ 5, -3,  1, 14],\n",
       "       [ 0,  3,  3, 15],\n",
       "       [ 3,  2, -4,  3]])"
      ]
     },
     "execution_count": 161,
     "metadata": {},
     "output_type": "execute_result"
    }
   ],
   "source": [
    "arr"
   ]
  },
  {
   "cell_type": "code",
   "execution_count": 138,
   "metadata": {},
   "outputs": [
    {
     "data": {
      "text/plain": [
       "array([[ 5, -3,  1, 14],\n",
       "       [ 0,  3,  3, 15],\n",
       "       [ 5, -3,  1, 14]])"
      ]
     },
     "execution_count": 138,
     "metadata": {},
     "output_type": "execute_result"
    }
   ],
   "source": [
    "arr"
   ]
  },
  {
   "cell_type": "code",
   "execution_count": 76,
   "metadata": {},
   "outputs": [],
   "source": [
    "i, j = 2, 2"
   ]
  },
  {
   "cell_type": "code",
   "execution_count": 77,
   "metadata": {},
   "outputs": [
    {
     "data": {
      "text/plain": [
       "array([], dtype=int64)"
      ]
     },
     "execution_count": 77,
     "metadata": {},
     "output_type": "execute_result"
    }
   ],
   "source": [
    "arr[i+1:, j]"
   ]
  },
  {
   "cell_type": "code",
   "execution_count": 53,
   "metadata": {},
   "outputs": [
    {
     "data": {
      "text/plain": [
       "array([[ 3,  2, -4,  3],\n",
       "       [ 2,  3,  3, 15],\n",
       "       [ 5, -3,  1, 14]])"
      ]
     },
     "execution_count": 53,
     "metadata": {},
     "output_type": "execute_result"
    }
   ],
   "source": [
    "arr"
   ]
  },
  {
   "cell_type": "code",
   "execution_count": 51,
   "metadata": {},
   "outputs": [
    {
     "name": "stdout",
     "output_type": "stream",
     "text": [
      "main dg elem 0: 3\n",
      "main dg lin 0:\n",
      "[ 3  2 -4  3]\n",
      "sub lines: \n",
      "[ 2  3  3 15]\n",
      "[ 5 -3  1 14]\n",
      "main dg elem 1: 3\n",
      "main dg lin 1:\n",
      "[ 2  3  3 15]\n",
      "sub lines: \n",
      "[-3  1 14]\n",
      "main dg elem 2: 1\n",
      "main dg lin 2:\n",
      "[ 5 -3  1 14]\n",
      "sub lines: \n"
     ]
    }
   ],
   "source": [
    "i = 0\n",
    "while i < arr.shape[0]:\n",
    "    print(f\"main dg elem {i}: {arr[i][i]}\")\n",
    "    print(f\"main dg lin {i}:\")\n",
    "    print(arr[i])\n",
    "    print('sub lines: ')\n",
    "    j = i + 1\n",
    "    while j < arr.shape[0]:\n",
    "        print(arr[j][i:])\n",
    "        j += 1\n",
    "\n",
    "    i += 1"
   ]
  },
  {
   "cell_type": "code",
   "execution_count": 39,
   "metadata": {},
   "outputs": [
    {
     "name": "stdout",
     "output_type": "stream",
     "text": [
      "[[ 3  2 -4  3]\n",
      " [ 2  3  3 15]\n",
      " [ 5 -3  1 14]]\n"
     ]
    },
    {
     "data": {
      "text/plain": [
       "<__main__.LinearSistem at 0x7f5580031ac0>"
      ]
     },
     "execution_count": 39,
     "metadata": {},
     "output_type": "execute_result"
    }
   ],
   "source": [
    "LinearSistem(linear_system)"
   ]
  },
  {
   "cell_type": "code",
   "execution_count": null,
   "metadata": {},
   "outputs": [],
   "source": []
  }
 ],
 "metadata": {
  "interpreter": {
   "hash": "e7370f93d1d0cde622a1f8e1c04877d8463912d04d973331ad4851f04de6915a"
  },
  "kernelspec": {
   "display_name": "Python 3.10.4 64-bit",
   "language": "python",
   "name": "python3"
  },
  "language_info": {
   "codemirror_mode": {
    "name": "ipython",
    "version": 3
   },
   "file_extension": ".py",
   "mimetype": "text/x-python",
   "name": "python",
   "nbconvert_exporter": "python",
   "pygments_lexer": "ipython3",
   "version": "3.9.5"
  },
  "orig_nbformat": 4
 },
 "nbformat": 4,
 "nbformat_minor": 2
}
