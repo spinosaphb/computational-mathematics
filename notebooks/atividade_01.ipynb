{
 "cells": [
  {
   "cell_type": "markdown",
   "source": [
    "## <center> $ \\text{Erro absoluto} \\rightarrow E_{a_x} = x - \\bar{x}. $\n",
    "## <center> $ \\text{Erro relativo} \\rightarrow E_{r_x} = \\dfrac{E_{a_x}}{\\bar{x}} = \\dfrac{x - \\bar{x}}{\\bar{x}} $"
   ],
   "metadata": {}
  },
  {
   "cell_type": "markdown",
   "source": [
    "$ \\text{ 1. Calcule o erro absoluto e o erro relativo envolvido nos seguintes cálculos numéricos abaixo onde o valor exato é dado por x e o valor aproximado é dado por x } $\n",
    "    \n",
    "$(a)$ $x = 0, 0020$ e $\\bar{x} = 0, 0021$\n",
    "    \n",
    "$(b)$ $x = 530000$ e $\\bar{x} = 529400$\n",
    "    \n",
    "$(c)$ $x = 2 × 10^{12}$ e $\\bar{x} = 1, 1872 × 10^{12}$"
   ],
   "metadata": {}
  },
  {
   "cell_type": "markdown",
   "source": [
    "$(a)$ $x = 0, 0020$ e $\\bar{x} = 0, 0021$\n",
    "\n",
    "- $E_{a_x} = x - \\bar{x}$\n",
    "    \n",
    "    $E_{a_{0,0020}} = 0,0020 - 0,0021$\n",
    "\n",
    "    $E_{a_{0,0020}} = −0,0001$\n",
    "\n",
    "    $E_{a_{0,0020}} = −1 \\cdot 10^{−4}$\n",
    "---\n",
    "- $E_{r_x} = \\dfrac{E_{a_x}}{\\bar{x}} = \\dfrac{x - \\bar{x}}{\\bar{x}}$\n",
    "    \n",
    "    $E_{r_{0,0020}} = \\dfrac{E_{a_x}}{\\bar{x}}$\n",
    "    \n",
    "    $E_{r_{0,0020}} = \\dfrac{−1 \\cdot 10^{−4}}{0,0021}$\n",
    "\n",
    "    $E_{r_{0,0020}} = \\dfrac{−1 \\cdot \\sout{10^{−4}}}{21 \\cdot \\sout{10^{-4}}} = \\dfrac{−1}{21}$\n",
    "\n",
    "    $E_{r_{0,0020}} = −0.047619048$\n",
    "    \n"
   ],
   "metadata": {}
  },
  {
   "cell_type": "markdown",
   "source": [
    "$(b)$ $x = 530000$ e $\\bar{x} = 529400$\n",
    "- $E_{a_x} = x - \\bar{x}$\n",
    "    - $E_{a_{530000}} = 530000 - 529400$\n",
    "    - $E_{a_{530000}} = 600$\n",
    "    - $E_{a_{530000}} = 6 \\cdot 10^{2}$\n",
    "---\n",
    "- $E_{r_x} = \\dfrac{E_{a_x}}{\\bar{x}} = \\dfrac{x - \\bar{x}}{\\bar{x}}$\n",
    "    \n",
    "    - $E_{r_x} = \\dfrac{6 \\cdot 10^{2}}{529400} = \\dfrac{6 \\cdot \\sout{10^{2}}}{5294 \\cdot \\sout{10^{2}}}$\n",
    "    - $E_{r_x} = 0.001133359$ "
   ],
   "metadata": {}
  },
  {
   "cell_type": "markdown",
   "source": [
    "$(c)$ $x = 2 × 10^{12}$ e $\\bar{x} = 1,1872 × 10^{12}$\n",
    "- $E_{a_x} = x - \\bar{x}$\n",
    "    - $E_{a_{ 2 × 10^{12}}} =  2 × 10^{12} - 1,1872 × 10^{12}$\n",
    "    - $E_{a_{ 2 × 10^{12}}} =  (2 - 1,1872) × 10^{12}$\n",
    "    - $E_{a_{ 2 × 10^{12}}} =  0,8128 \\cdot 10^{12}$\n",
    "    - $E_{a_{ 2 × 10^{12}}} =  8,128 \\cdot 10^{11}$\n",
    "    "
   ],
   "metadata": {}
  }
 ],
 "metadata": {
  "orig_nbformat": 4,
  "language_info": {
   "name": "python",
   "version": "3.9.5",
   "mimetype": "text/x-python",
   "codemirror_mode": {
    "name": "ipython",
    "version": 3
   },
   "pygments_lexer": "ipython3",
   "nbconvert_exporter": "python",
   "file_extension": ".py"
  },
  "kernelspec": {
   "name": "python3",
   "display_name": "Python 3.9.5 64-bit ('study': conda)"
  },
  "interpreter": {
   "hash": "4e0f2b948dc01bd96f77cc1f8f495564a7499976635eb5b456da0362e6ff5d9d"
  }
 },
 "nbformat": 4,
 "nbformat_minor": 2
}