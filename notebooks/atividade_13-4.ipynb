{
 "cells": [
  {
   "cell_type": "markdown",
   "metadata": {},
   "source": [
    "$ 1 - \\text{Encontre uma raiz de} f(x) = x^3 - 9x + 3 \\text{ após isolar todas as raizes.}$\n",
    "$\\newline \\text{Dica: Teste valores no intervalo }[-6, 5] \\text{ para as isolar as raízes.}$ `Precisão:` $e = 0,008$\n",
    "\n",
    "$b \\text{ é única em }[a, b] \\text{se } f(a)\\cdot f(b) < 0 \\text{ e } f' \\text{ mantém sinal.}$"
   ]
  },
  {
   "cell_type": "markdown",
   "metadata": {},
   "source": [
    "$f(x) = x^3 - 9x + 3$"
   ]
  },
  {
   "cell_type": "code",
   "execution_count": 15,
   "metadata": {},
   "outputs": [],
   "source": [
    "range_numbers = range(-5,5)"
   ]
  },
  {
   "cell_type": "code",
   "execution_count": 19,
   "metadata": {},
   "outputs": [],
   "source": [
    "resolve_f = lambda x: x**3 - 9*x + 3"
   ]
  },
  {
   "cell_type": "code",
   "execution_count": 20,
   "metadata": {},
   "outputs": [
    {
     "data": {
      "text/plain": [
       "[-77, -25, 3, 13, 11, 3, -5, -7, 3, 31]"
      ]
     },
     "execution_count": 20,
     "metadata": {},
     "output_type": "execute_result"
    }
   ],
   "source": [
    "list_result = list(map(\n",
    "    resolve_f,\n",
    "    range_numbers\n",
    "))    \n",
    "list_result"
   ]
  },
  {
   "cell_type": "code",
   "execution_count": 21,
   "metadata": {},
   "outputs": [
    {
     "data": {
      "text/plain": [
       "[(-4, -3), (0, 1), (2, 3)]"
      ]
     },
     "execution_count": 21,
     "metadata": {},
     "output_type": "execute_result"
    }
   ],
   "source": [
    "signals = ['+' if elem > 0 else '-' if elem < 0 else 'inv' for elem in list_result]\n",
    "i = 0\n",
    "intervalos = []\n",
    "while i < len(range_numbers)-1:\n",
    "    if signals[i] != signals[i+1]:\n",
    "        intervalos.append((range_numbers[i], range_numbers[i+1]))\n",
    "    i+=1\n",
    "intervalos"
   ]
  },
  {
   "cell_type": "markdown",
   "metadata": {},
   "source": [
    "## $\\text{Criterio de parada}$\n",
    "## 1. $|f(xk)| < e$\n",
    "## 2. $b-a < e$\n",
    "## (Precisam ser satisfeitos ao mesmo tempo)"
   ]
  },
  {
   "cell_type": "code",
   "execution_count": 22,
   "metadata": {},
   "outputs": [],
   "source": [
    "precision_e = 0.01"
   ]
  },
  {
   "cell_type": "code",
   "execution_count": 62,
   "metadata": {},
   "outputs": [
    {
     "data": {
      "text/plain": [
       "[(-4, -3), (0, 1), (2, 3)]"
      ]
     },
     "execution_count": 62,
     "metadata": {},
     "output_type": "execute_result"
    }
   ],
   "source": [
    "intervalos"
   ]
  },
  {
   "cell_type": "code",
   "execution_count": 249,
   "metadata": {},
   "outputs": [],
   "source": [
    "def resolve_by_refinamento(a, b, xk = None):\n",
    "    xk = (a+b)/2\n",
    "    print(f'a: {a}, b: {b} ----> {resolve_f(xk)}')\n",
    "    if resolve_f(xk) < precision_e and b-a < precision_e:\n",
    "        return xk \n",
    "    else:\n",
    "        if resolve_f(b/2) > resolve_f(b):\n",
    "            a = b\n",
    "        return resolve_by_refinamento(b/2, b, xk)"
   ]
  },
  {
   "cell_type": "code",
   "execution_count": 250,
   "metadata": {},
   "outputs": [
    {
     "data": {
      "text/plain": [
       "1.866953125"
      ]
     },
     "execution_count": 250,
     "metadata": {},
     "output_type": "execute_result"
    }
   ],
   "source": [
    "abs(resolve_f(0.25/2) - precision_e) "
   ]
  },
  {
   "cell_type": "code",
   "execution_count": 251,
   "metadata": {},
   "outputs": [
    {
     "data": {
      "text/plain": [
       "0.755625"
      ]
     },
     "execution_count": 251,
     "metadata": {},
     "output_type": "execute_result"
    }
   ],
   "source": [
    "abs(resolve_f(0.25) - precision_e)"
   ]
  },
  {
   "cell_type": "code",
   "execution_count": 181,
   "metadata": {},
   "outputs": [
    {
     "data": {
      "text/plain": [
       "0.008819326578997533"
      ]
     },
     "execution_count": 181,
     "metadata": {},
     "output_type": "execute_result"
    }
   ],
   "source": [
    "resolve_f(-3.1541)"
   ]
  },
  {
   "cell_type": "code",
   "execution_count": 174,
   "metadata": {},
   "outputs": [
    {
     "data": {
      "text/plain": [
       "0.009602652124999889"
      ]
     },
     "execution_count": 174,
     "metadata": {},
     "output_type": "execute_result"
    }
   ],
   "source": [
    "resolve_f(0.3365)"
   ]
  },
  {
   "cell_type": "code",
   "execution_count": 176,
   "metadata": {},
   "outputs": [
    {
     "data": {
      "text/plain": [
       "0.00867785937499832"
      ]
     },
     "execution_count": 176,
     "metadata": {},
     "output_type": "execute_result"
    }
   ],
   "source": [
    "resolve_f(2.8175)"
   ]
  }
 ],
 "metadata": {
  "interpreter": {
   "hash": "4e0f2b948dc01bd96f77cc1f8f495564a7499976635eb5b456da0362e6ff5d9d"
  },
  "kernelspec": {
   "display_name": "Python 3.9.5 64-bit ('study': conda)",
   "name": "python3"
  },
  "language_info": {
   "codemirror_mode": {
    "name": "ipython",
    "version": 3
   },
   "file_extension": ".py",
   "mimetype": "text/x-python",
   "name": "python",
   "nbconvert_exporter": "python",
   "pygments_lexer": "ipython3",
   "version": "3.9.5"
  },
  "orig_nbformat": 4
 },
 "nbformat": 4,
 "nbformat_minor": 2
}
